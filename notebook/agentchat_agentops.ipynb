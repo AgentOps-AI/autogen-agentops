{
 "cells": [
  {
   "cell_type": "markdown",
   "id": "5a3b20ae8f10e4e9",
   "metadata": {
    "collapsed": false
   },
   "source": [
    "# AgentOps Observability and Monitoring\n",
    "Using [AgentOps](https://agentops.ai/) allows you to quickly and easily add agent observability and monitoring to your Autogen services."
   ]
  },
  {
   "cell_type": "markdown",
   "id": "4f9b51b9ec511742",
   "metadata": {
    "collapsed": false
   },
   "source": [
    "````{=mdx}\n",
    ":::info Requirements\n",
    "Some extra dependencies are needed for this notebook, which can be installed via pip:\n",
    "\n",
    "```bash\n",
    "pip install pyautogen[agentops]\n",
    "```\n",
    "\n",
    "For more information, please refer to the [installation guide](/docs/installation/).\n",
    ":::\n",
    "````"
   ]
  },
  {
   "cell_type": "markdown",
   "id": "146e926be404dcd2",
   "metadata": {
    "collapsed": false
   },
   "source": [
    "### Adding AgentOps to an existing Autogen service.\n",
    "It's as simple as adding two lines of code!"
   ]
  },
  {
   "cell_type": "code",
   "execution_count": null,
   "id": "50da532c9de725f1",
   "metadata": {
    "collapsed": false
   },
   "outputs": [],
   "source": [
    "%pip install agentops"
   ]
  },
  {
   "cell_type": "code",
   "execution_count": 6,
   "id": "1d87c3c743ceab0e",
   "metadata": {
    "ExecuteTime": {
     "end_time": "2024-05-14T04:06:30.922007Z",
     "start_time": "2024-05-14T04:06:30.916673Z"
    },
    "collapsed": false
   },
   "outputs": [],
   "source": [
    "import agentops\n",
    "\n",
    "agentops.init()"
   ]
  },
  {
   "cell_type": "markdown",
   "id": "b7930c39abd0240f",
   "metadata": {
    "collapsed": false
   },
   "source": [
    "By default, the AgentOps `init()` function will look for an environment variable named `AGENTOPS_API_KEY`. Alternatively, you can pass one in as an optional parameter.\n",
    "\n",
    "After initializing AgentOps, Autogen will now start automatically tracking\n",
    "- LLM calls\n",
    "- Agent names and actions\n",
    "- Tool usage\n",
    "- Correspondence between agents\n",
    "- Errors\n",
    "- Token usage and costs\n",
    "\n",
    "You can retrieve your API key and view the results of your agent runs at [https://agentops.ai](https://agentops.ai)"
   ]
  },
  {
   "cell_type": "markdown",
   "id": "698963875466f54d",
   "metadata": {
    "collapsed": false
   },
   "source": [
    "# Simple Chat Example"
   ]
  },
  {
   "cell_type": "code",
   "execution_count": null,
   "id": "160f5048a9d64a20",
   "metadata": {
    "collapsed": false
   },
   "outputs": [],
   "source": [
    "import agentops\n",
    "\n",
    "from autogen import ConversableAgent, UserProxyAgent, config_list_from_json\n",
    "\n",
    "agentops.init(api_key=\"your-api-key-here\", tags=[\"simple-autogen-example\"])\n",
    "\n",
    "config_list = config_list_from_json(env_or_file=\"OAI_CONFIG_LIST\")\n",
    "\n",
    "# Create the agent that uses the LLM.\n",
    "assistant = ConversableAgent(\"agent\", llm_config={\"config_list\": config_list})\n",
    "\n",
    "# Create the agent that represents the user in the conversation.\n",
    "user_proxy = UserProxyAgent(\"user\", code_execution_config=False)\n",
    "\n",
    "# Let the assistant start the conversation.  It will end when the user types exit.\n",
    "assistant.initiate_chat(user_proxy, message=\"How can I help you today?\")\n",
    "\n",
    "agentops.end_session(\"Success\")"
   ]
  },
  {
   "cell_type": "markdown",
   "id": "2cc23493c8c2f6ad",
   "metadata": {
    "collapsed": false
   },
   "source": [
    "You can view data on this run at [https://agentops.ai](https://agentops.ai). You should see LLM events for each message sent by each agent, including the user. All data that can be capture is captured."
   ]
  },
  {
   "cell_type": "markdown",
   "id": "408e2adfc261511a",
   "metadata": {
    "collapsed": false
   },
   "source": [
    "## Tool Example\n",
    "In this example lets use Tools with Autogen. You can find more information on this example in [tool-use.ipynb](https://github.com/microsoft/autogen/blob/main/website/docs/tutorial/tool-use.ipynb)"
   ]
  },
  {
   "cell_type": "code",
   "execution_count": 2,
   "id": "140d51d41afe9614",
   "metadata": {
    "ExecuteTime": {
     "end_time": "2024-05-14T00:51:26.996321Z",
     "start_time": "2024-05-14T00:51:26.994649Z"
    },
    "collapsed": false
   },
   "outputs": [],
   "source": [
    "from typing import Annotated, Literal\n",
    "\n",
    "Operator = Literal[\"+\", \"-\", \"*\", \"/\"]"
   ]
  },
  {
   "cell_type": "code",
   "execution_count": 3,
   "id": "150fa4f828dbcbc",
   "metadata": {
    "ExecuteTime": {
     "end_time": "2024-05-14T00:51:27.000159Z",
     "start_time": "2024-05-14T00:51:26.998274Z"
    },
    "collapsed": false
   },
   "outputs": [],
   "source": [
    "def calculator(a: int, b: int, operator: Annotated[Operator, \"operator\"]) -> int:\n",
    "    if operator == \"+\":\n",
    "        return a + b\n",
    "    elif operator == \"-\":\n",
    "        return a - b\n",
    "    elif operator == \"*\":\n",
    "        return a * b\n",
    "    elif operator == \"/\":\n",
    "        return int(a / b)\n",
    "    else:\n",
    "        raise ValueError(\"Invalid operator\")"
   ]
  },
  {
   "cell_type": "code",
   "execution_count": null,
   "id": "4b0fc9a11f2f4c3b",
   "metadata": {
    "collapsed": false
   },
   "outputs": [],
   "source": [
    "import agentops\n",
    "\n",
    "from autogen import ConversableAgent, config_list_from_json, register_function\n",
    "\n",
    "agentops.init(api_key=\"7c94212b-b89d-47a6-a20c-23b2077d3226\", tags=[\"autogen-tool-example\"])\n",
    "\n",
    "config_list = config_list_from_json(env_or_file=\"OAI_CONFIG_LIST\")\n",
    "\n",
    "assistant = ConversableAgent(\n",
    "    name=\"Assistant\",\n",
    "    system_message=\"You are a helpful AI assistant. \"\n",
    "    \"You can help with simple calculations. \"\n",
    "    \"Return 'TERMINATE' when the task is done.\",\n",
    "    llm_config={\"config_list\": config_list, \"cache_seed\": None},\n",
    ")\n",
    "\n",
    "# The user proxy agent is used for interacting with the assistant agent\n",
    "# and executes tool calls.\n",
    "user_proxy = ConversableAgent(\n",
    "    name=\"User\",\n",
    "    llm_config=False,\n",
    "    is_termination_msg=lambda msg: msg.get(\"content\") is not None and \"TERMINATE\" in msg[\"content\"],\n",
    "    human_input_mode=\"NEVER\",\n",
    ")\n",
    "\n",
    "assistant.register_for_llm(name=\"calculator\", description=\"A simple calculator\")(calculator)\n",
    "user_proxy.register_for_execution(name=\"calculator\")(calculator)\n",
    "\n",
    "# Register the calculator function to the two agents.\n",
    "register_function(\n",
    "    calculator,\n",
    "    caller=assistant,  # The assistant agent can suggest calls to the calculator.\n",
    "    executor=user_proxy,  # The user proxy agent can execute the calculator calls.\n",
    "    name=\"calculator\",  # By default, the function name is used as the tool name.\n",
    "    description=\"A simple calculator\",  # A description of the tool.\n",
    ")\n",
    "\n",
    "# Let the assistant start the conversation.  It will end when the user types exit.\n",
    "user_proxy.initiate_chat(assistant, message=\"What is (1423 - 123) / 3 + (32 + 23) * 5?\")\n",
    "\n",
    "agentops.end_session(\"Success\")"
   ]
  },
  {
   "cell_type": "markdown",
   "id": "472fefe284e55395",
   "metadata": {
    "collapsed": false
   },
   "source": [
    "Again, if you go to [https://agentops.ai](https://agentops.ai), you should see data related to this run including:\n",
    "- Agents talking to each other\n",
    "- Each use of the `calculator` tool\n",
    "- Each call to OpenAI for LLM use"
   ]
  }
 ],
 "metadata": {
  "kernelspec": {
   "display_name": "Python 3",
   "language": "python",
   "name": "python3"
  },
  "language_info": {
   "codemirror_mode": {
    "name": "ipython",
    "version": 2
   },
   "file_extension": ".py",
   "mimetype": "text/x-python",
   "name": "python",
   "nbconvert_exporter": "python",
   "pygments_lexer": "ipython2",
   "version": "2.7.6"
  }
 },
 "nbformat": 4,
 "nbformat_minor": 5
}
