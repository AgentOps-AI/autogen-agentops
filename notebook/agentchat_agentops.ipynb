{
 "cells": [
  {
   "cell_type": "markdown",
   "source": [
    "# AgentOps Observability and Monitoring\n",
    "Using [AgentOps](https://agentops.ai/) allows you to quickly and easily add agent observability and monitoring to your Autogen services."
   ],
   "metadata": {
    "collapsed": false
   },
   "id": "5a3b20ae8f10e4e9"
  },
  {
   "cell_type": "markdown",
   "source": [
    "````{=mdx}\n",
    ":::info Requirements\n",
    "Some extra dependencies are needed for this notebook, which can be installed via pip:\n",
    "\n",
    "```bash\n",
    "pip install pyautogen[agentops]\n",
    "```\n",
    "\n",
    "For more information, please refer to the [installation guide](/docs/installation/).\n",
    ":::\n",
    "````"
   ],
   "metadata": {
    "collapsed": false
   },
   "id": "4f9b51b9ec511742"
  },
  {
   "cell_type": "markdown",
   "source": [
    "### Adding AgentOps to an existing Autogen service.\n",
    "It's as simple as adding two lines of code!"
   ],
   "metadata": {
    "collapsed": false
   },
   "id": "146e926be404dcd2"
  },
  {
   "cell_type": "code",
   "outputs": [
    {
     "name": "stdout",
     "output_type": "stream",
     "text": [
      "Requirement already satisfied: agentops in /Users/braelynboynton/Developer/agentops/autogen/venv/lib/python3.11/site-packages (0.1.9)\r\n",
      "Requirement already satisfied: requests==2.31.0 in /Users/braelynboynton/Developer/agentops/autogen/venv/lib/python3.11/site-packages (from agentops) (2.31.0)\r\n",
      "Requirement already satisfied: psutil==5.9.8 in /Users/braelynboynton/Developer/agentops/autogen/venv/lib/python3.11/site-packages (from agentops) (5.9.8)\r\n",
      "Requirement already satisfied: packaging==23.2 in /Users/braelynboynton/Developer/agentops/autogen/venv/lib/python3.11/site-packages (from agentops) (23.2)\r\n",
      "Requirement already satisfied: charset-normalizer<4,>=2 in /Users/braelynboynton/Developer/agentops/autogen/venv/lib/python3.11/site-packages (from requests==2.31.0->agentops) (3.3.2)\r\n",
      "Requirement already satisfied: idna<4,>=2.5 in /Users/braelynboynton/Developer/agentops/autogen/venv/lib/python3.11/site-packages (from requests==2.31.0->agentops) (3.7)\r\n",
      "Requirement already satisfied: urllib3<3,>=1.21.1 in /Users/braelynboynton/Developer/agentops/autogen/venv/lib/python3.11/site-packages (from requests==2.31.0->agentops) (2.2.1)\r\n",
      "Requirement already satisfied: certifi>=2017.4.17 in /Users/braelynboynton/Developer/agentops/autogen/venv/lib/python3.11/site-packages (from requests==2.31.0->agentops) (2024.2.2)\r\n",
      "Note: you may need to restart the kernel to use updated packages.\n"
     ]
    }
   ],
   "source": [
    "%pip install agentops"
   ],
   "metadata": {
    "collapsed": false,
    "ExecuteTime": {
     "end_time": "2024-05-14T00:51:26.992945Z",
     "start_time": "2024-05-14T00:51:25.744599Z"
    }
   },
   "id": "50da532c9de725f1",
   "execution_count": 1
  },
  {
   "cell_type": "code",
   "outputs": [],
   "source": [
    "from typing import Annotated, Literal\n",
    "Operator = Literal[\"+\", \"-\", \"*\", \"/\"]"
   ],
   "metadata": {
    "collapsed": false,
    "ExecuteTime": {
     "end_time": "2024-05-14T00:51:26.996321Z",
     "start_time": "2024-05-14T00:51:26.994649Z"
    }
   },
   "id": "140d51d41afe9614",
   "execution_count": 2
  },
  {
   "cell_type": "code",
   "outputs": [],
   "source": [
    "def calculator(a: int, b: int, operator: Annotated[Operator, \"operator\"]) -> int:\n",
    "    if operator == \"+\":\n",
    "        return a + b\n",
    "    elif operator == \"-\":\n",
    "        return a - b\n",
    "    elif operator == \"*\":\n",
    "        return a * b\n",
    "    elif operator == \"/\":\n",
    "        return int(a / b)\n",
    "    else:\n",
    "        raise ValueError(\"Invalid operator\")"
   ],
   "metadata": {
    "collapsed": false,
    "ExecuteTime": {
     "end_time": "2024-05-14T00:51:27.000159Z",
     "start_time": "2024-05-14T00:51:26.998274Z"
    }
   },
   "id": "150fa4f828dbcbc",
   "execution_count": 3
  },
  {
   "cell_type": "code",
   "outputs": [
    {
     "name": "stdout",
     "output_type": "stream",
     "text": [
      "Starting agentops logger\n",
      "\u001B[33mUser\u001B[0m (to Assistant):\n",
      "\n",
      "What is (1423 - 123) / 3 + (32 + 23) * 5?\n",
      "\n",
      "--------------------------------------------------------------------------------\n",
      "\u001B[31m\n",
      ">>>>>>>> USING AUTO REPLY...\u001B[0m\n",
      "\u001B[33mAssistant\u001B[0m (to User):\n",
      "\n",
      "\u001B[32m***** Suggested tool call (call_HF67N53zJqjXLIxMybAn02tk): calculator *****\u001B[0m\n",
      "Arguments: \n",
      "{\n",
      "  \"a\": 1423,\n",
      "  \"b\": 123,\n",
      "  \"operator\": \"-\"\n",
      "}\n",
      "\u001B[32m***************************************************************************\u001B[0m\n",
      "\n",
      "--------------------------------------------------------------------------------\n",
      "\u001B[35m\n",
      ">>>>>>>> EXECUTING FUNCTION calculator...\u001B[0m\n",
      "\u001B[33mUser\u001B[0m (to Assistant):\n",
      "\n",
      "\u001B[33mUser\u001B[0m (to Assistant):\n",
      "\n",
      "\u001B[32m***** Response from calling tool (call_HF67N53zJqjXLIxMybAn02tk) *****\u001B[0m\n",
      "1300\n",
      "\u001B[32m**********************************************************************\u001B[0m\n",
      "\n",
      "--------------------------------------------------------------------------------\n",
      "\u001B[31m\n",
      ">>>>>>>> USING AUTO REPLY...\u001B[0m\n",
      "\u001B[33mAssistant\u001B[0m (to User):\n",
      "\n",
      "\u001B[32m***** Suggested tool call (call_L8ZEWmUPW394YeRXbczBM5zw): calculator *****\u001B[0m\n",
      "Arguments: \n",
      "{\n",
      "  \"a\": 1300,\n",
      "  \"b\": 3,\n",
      "  \"operator\": \"/\"\n",
      "}\n",
      "\u001B[32m***************************************************************************\u001B[0m\n",
      "\n",
      "--------------------------------------------------------------------------------\n",
      "\u001B[35m\n",
      ">>>>>>>> EXECUTING FUNCTION calculator...\u001B[0m\n",
      "\u001B[33mUser\u001B[0m (to Assistant):\n",
      "\n",
      "\u001B[33mUser\u001B[0m (to Assistant):\n",
      "\u001B[32m***** Response from calling tool (call_L8ZEWmUPW394YeRXbczBM5zw) *****\u001B[0m\n",
      "433\n",
      "\u001B[32m**********************************************************************\u001B[0m\n",
      "\n",
      "--------------------------------------------------------------------------------\n",
      "\u001B[31m\n",
      ">>>>>>>> USING AUTO REPLY...\u001B[0m\n",
      "\u001B[33mAssistant\u001B[0m (to User):\n",
      "\n",
      "\u001B[32m***** Suggested tool call (call_HPprRyL9eN7oFtvuHFLBeile): calculator *****\u001B[0m\n",
      "Arguments: \n",
      "{\n",
      "  \"a\": 32,\n",
      "  \"b\": 23,\n",
      "  \"operator\": \"+\"\n",
      "}\n",
      "\u001B[32m***************************************************************************\u001B[0m\n",
      "\n",
      "--------------------------------------------------------------------------------\n",
      "\u001B[35m\n",
      ">>>>>>>> EXECUTING FUNCTION calculator...\u001B[0m\n",
      "\u001B[33mUser\u001B[0m (to Assistant):\n",
      "\n",
      "\u001B[33mUser\u001B[0m (to Assistant):\n",
      "\n",
      "\u001B[32m***** Response from calling tool (call_HPprRyL9eN7oFtvuHFLBeile) *****\u001B[0m\n",
      "55\n",
      "\u001B[32m**********************************************************************\u001B[0m\n",
      "\n",
      "--------------------------------------------------------------------------------\n",
      "\u001B[31m\n",
      ">>>>>>>> USING AUTO REPLY...\u001B[0m\n",
      "\u001B[33mAssistant\u001B[0m (to User):\n",
      "\n",
      "\u001B[32m***** Suggested tool call (call_KF1l3cCn8x4CEaynTdoEgCBl): calculator *****\u001B[0m\n",
      "Arguments: \n",
      "{\n",
      "  \"a\": 55,\n",
      "  \"b\": 5,\n",
      "  \"operator\": \"*\"\n",
      "}\n",
      "\u001B[32m***************************************************************************\u001B[0m\n",
      "\n",
      "--------------------------------------------------------------------------------\n",
      "\u001B[35m\n",
      ">>>>>>>> EXECUTING FUNCTION calculator...\u001B[0m\n",
      "\u001B[33mUser\u001B[0m (to Assistant):\n",
      "\n",
      "\u001B[33mUser\u001B[0m (to Assistant):\n",
      "\n",
      "\u001B[32m***** Response from calling tool (call_KF1l3cCn8x4CEaynTdoEgCBl) *****\u001B[0m\n",
      "275\n",
      "\u001B[32m**********************************************************************\u001B[0m\n",
      "\n",
      "--------------------------------------------------------------------------------\n",
      "\u001B[31m\n",
      ">>>>>>>> USING AUTO REPLY...\u001B[0m\n",
      "\u001B[33mAssistant\u001B[0m (to User):\n",
      "\n",
      "\u001B[32m***** Suggested tool call (call_2DHRlkAuUL8uM9kQVz0sVQQB): calculator *****\u001B[0m\n",
      "Arguments: \n",
      "{\n",
      "  \"a\": 433,\n",
      "  \"b\": 275,\n",
      "  \"operator\": \"+\"\n",
      "}\n",
      "\u001B[32m***************************************************************************\u001B[0m\n",
      "\n",
      "--------------------------------------------------------------------------------\n",
      "\u001B[35m\n",
      ">>>>>>>> EXECUTING FUNCTION calculator...\u001B[0m\n",
      "\u001B[33mUser\u001B[0m (to Assistant):\n",
      "\n",
      "\u001B[33mUser\u001B[0m (to Assistant):\n",
      "\n",
      "\u001B[32m***** Response from calling tool (call_2DHRlkAuUL8uM9kQVz0sVQQB) *****\u001B[0m\n",
      "708\n",
      "\u001B[32m**********************************************************************\u001B[0m\n",
      "\n",
      "--------------------------------------------------------------------------------\n",
      "\u001B[31m\n",
      ">>>>>>>> USING AUTO REPLY...\u001B[0m\n",
      "\u001B[33mAssistant\u001B[0m (to User):\n",
      "\n",
      "The result of the calculation is 708. \n",
      "\n",
      "TERMINATE\n",
      "\n",
      "--------------------------------------------------------------------------------\n",
      "🖇 AgentOps: This run cost $0.001800\n"
     ]
    }
   ],
   "source": [
    "import agentops\n",
    "from autogen import ConversableAgent, UserProxyAgent, config_list_from_json, register_function\n",
    "\n",
    "# agentops.init(api_key=\"7c94212b-b89d-47a6-a20c-23b2077d3226\", tags=[\"autogen-callback-example\"])\n",
    "agentops.init(api_key=\"6b7a1469-bdcb-4d47-85ba-c4824bc8486e\", endpoint='http://localhost:8000', tags=[\"autogen-callback-example\"])\n",
    "\n",
    "config_list = config_list_from_json(env_or_file=\"OAI_CONFIG_LIST\")\n",
    "\n",
    "assistant = ConversableAgent(\n",
    "        name=\"Assistant\",\n",
    "        system_message=\"You are a helpful AI assistant. \"\n",
    "        \"You can help with simple calculations. \"\n",
    "        \"Return 'TERMINATE' when the task is done.\",\n",
    "        llm_config={\"config_list\": config_list, \"cache_seed\": None},\n",
    "    )\n",
    "\n",
    "# The user proxy agent is used for interacting with the assistant agent\n",
    "# and executes tool calls.\n",
    "user_proxy = ConversableAgent(\n",
    "    name=\"User\",\n",
    "    llm_config=False,\n",
    "    is_termination_msg=lambda msg: msg.get(\"content\") is not None and \"TERMINATE\" in msg[\"content\"],\n",
    "    human_input_mode=\"NEVER\",\n",
    ")\n",
    "\n",
    "assistant.register_for_llm(name=\"calculator\", description=\"A simple calculator\")(calculator)\n",
    "user_proxy.register_for_execution(name=\"calculator\")(calculator)\n",
    "\n",
    "# Register the calculator function to the two agents.\n",
    "register_function(\n",
    "    calculator,\n",
    "    caller=assistant,  # The assistant agent can suggest calls to the calculator.\n",
    "    executor=user_proxy,  # The user proxy agent can execute the calculator calls.\n",
    "    name=\"calculator\",  # By default, the function name is used as the tool name.\n",
    "    description=\"A simple calculator\",  # A description of the tool.\n",
    ")\n",
    "\n",
    "# Let the assistant start the conversation.  It will end when the user types exit.\n",
    "user_proxy.initiate_chat(assistant, message=\"What is (1423 - 123) / 3 + (32 + 23) * 5?\")\n",
    "\n",
    "agentops.end_session(\"Success\")\n"
   ],
   "metadata": {
    "collapsed": false,
    "ExecuteTime": {
     "end_time": "2024-05-14T00:51:40.996031Z",
     "start_time": "2024-05-14T00:51:27.002546Z"
    }
   },
   "id": "4b0fc9a11f2f4c3b",
   "execution_count": 4
  }
 ],
 "metadata": {
  "kernelspec": {
   "display_name": "Python 3",
   "language": "python",
   "name": "python3"
  },
  "language_info": {
   "codemirror_mode": {
    "name": "ipython",
    "version": 2
   },
   "file_extension": ".py",
   "mimetype": "text/x-python",
   "name": "python",
   "nbconvert_exporter": "python",
   "pygments_lexer": "ipython2",
   "version": "2.7.6"
  }
 },
 "nbformat": 4,
 "nbformat_minor": 5
}
