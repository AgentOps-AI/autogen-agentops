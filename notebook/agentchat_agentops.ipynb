{
 "cells": [
  {
   "cell_type": "markdown",
   "source": [
    "# AgentOps\n",
    "Using [AgentOps](https://agentops.ai/) allows you to quickly and easily add agent observability and monitoring to your Autogen services."
   ],
   "metadata": {
    "collapsed": false,
    "front_matter": {
     "tags": [
      "monitoring",
      "debugging"
     ],
     "description": "Use AgentOps to simplify the development process and monitor your agents in production."
    }
   },
   "id": "a447802c88c8a240"
  },
  {
   "cell_type": "markdown",
   "source": [
    "````{=mdx}\n",
    ":::info Requirements\n",
    "Some extra dependencies are needed for this notebook, which can be installed via pip:\n",
    "\n",
    "```bash\n",
    "pip install pyautogen[agentops]\n",
    "```\n",
    "\n",
    "For more information, please refer to the [installation guide](/docs/installation/).\n",
    ":::\n",
    "````"
   ],
   "metadata": {
    "collapsed": false
   },
   "id": "1731b1788d44533e"
  },
  {
   "cell_type": "markdown",
   "source": [
    "### Adding AgentOps to an existing Autogen service.\n",
    "It's as simple as adding two lines of code!"
   ],
   "metadata": {
    "collapsed": false
   },
   "id": "38182a5296dceb34"
  },
  {
   "cell_type": "code",
   "outputs": [],
   "source": [
    "%pip install agentops"
   ],
   "metadata": {
    "collapsed": false
   },
   "id": "b6dc3b19889ad683",
   "execution_count": null
  },
  {
   "cell_type": "code",
   "outputs": [],
   "source": [
    "import agentops\n",
    "agentops.init()"
   ],
   "metadata": {
    "collapsed": false
   },
   "id": "f31a28d20a13b377",
   "execution_count": null
  },
  {
   "cell_type": "markdown",
   "source": [
    "By default, the AgentOps `init()` function will look for an environment variable named `AGENTOPS_API_KEY`. Alternatively, you can pass one in as an optional parameter."
   ],
   "metadata": {
    "collapsed": false
   },
   "id": "6be9e11620b0e8d6"
  },
  {
   "cell_type": "code",
   "outputs": [],
   "source": [
    "agentops.init(api_key='xxxx-xxxx-xxxx-xxxx-xxxxxxxxxxxxx')"
   ],
   "metadata": {
    "collapsed": false
   },
   "id": "d120f777958ff17f",
   "execution_count": null
  },
  {
   "cell_type": "markdown",
   "source": [
    "After initializing AgentOps, Autogen will now start automatically tracking\n",
    "- LLM calls\n",
    "- Agent names and actions\n",
    "- Tool usage\n",
    "- Correspondence between agents\n",
    "- Errors\n",
    "- Token usage and costs"
   ],
   "metadata": {
    "collapsed": false
   },
   "id": "4dd8f461ccd9cbef"
  },
  {
   "cell_type": "markdown",
   "source": [
    "You can retrieve your API key and view the results of your agent runs at [https://agentops.ai](https://agentops.ai)"
   ],
   "metadata": {
    "collapsed": false
   },
   "id": "ef7cb74cb88fae9c"
  },
  {
   "cell_type": "markdown",
   "source": [
    "# Simple Chat Example"
   ],
   "metadata": {
    "collapsed": false
   },
   "id": "712315c520536eb8"
  },
  {
   "cell_type": "code",
   "outputs": [],
   "source": [
    "from autogen import ConversableAgent, UserProxyAgent, config_list_from_json\n",
    "import agentops\n",
    "\n",
    "agentops.init(api_key='your-api-key-here', tags=['simple-autogen-example'])\n",
    "\n",
    "config_list = config_list_from_json(env_or_file=\"OAI_CONFIG_LIST\")\n",
    "\n",
    "# Create the agent that uses the LLM.\n",
    "assistant = ConversableAgent(\"agent\", llm_config={\"config_list\": config_list})\n",
    "\n",
    "# Create the agent that represents the user in the conversation.\n",
    "user_proxy = UserProxyAgent(\"user\", code_execution_config=False)\n",
    "\n",
    "# Let the assistant start the conversation.  It will end when the user types exit.\n",
    "assistant.initiate_chat(user_proxy, message=\"How can I help you today?\")\n",
    "\n",
    "agentops.end_session('Success')"
   ],
   "metadata": {
    "collapsed": false
   },
   "id": "66d68e66e9f4a677",
   "execution_count": null
  },
  {
   "cell_type": "markdown",
   "source": [
    "You can view data on this run at [https://agentops.ai](https://agentops.ai). You should see LLM events for each message sent by each agent, including the user. All data that can be capture is captured."
   ],
   "metadata": {
    "collapsed": false
   },
   "id": "2217ed0f930cfcaa"
  },
  {
   "cell_type": "markdown",
   "source": [
    "## Tool Example\n",
    "In this example lets use Tools with Autogen. You can find more information on this example in [tool-use.ipynb](../website/docs/tutorial/tool-use.ipynb)"
   ],
   "metadata": {
    "collapsed": false
   },
   "id": "fd78f1a816276cb7"
  },
  {
   "cell_type": "code",
   "outputs": [],
   "source": [
    "from autogen import ConversableAgent, config_list_from_json, register_function\n",
    "agentops = None # removing state from last code block\n",
    "import agentops\n",
    "from typing import Annotated, Literal\n",
    "\n",
    "agentops.init(api_key='your-api-key-here', tags=['autogen-tool-example'])\n",
    "\n",
    "Operator = Literal[\"+\", \"-\", \"*\", \"/\"]\n",
    "def calculator(a: int, b: int, operator: Annotated[Operator, \"operator\"]) -> int:\n",
    "    if operator == \"+\":\n",
    "        return a + b\n",
    "    elif operator == \"-\":\n",
    "        return a - b\n",
    "    elif operator == \"*\":\n",
    "        return a * b\n",
    "    elif operator == \"/\":\n",
    "        return int(a / b)\n",
    "    else:\n",
    "        raise ValueError(\"Invalid operator\")\n",
    "\n",
    "\n",
    "config_list = config_list_from_json(env_or_file=\"OAI_CONFIG_LIST\")\n",
    "\n",
    "# Create the agent that uses the LLM.\n",
    "assistant = ConversableAgent(\n",
    "    name=\"Assistant\",\n",
    "    system_message=\"You are a helpful AI assistant. \"\n",
    "                   \"You can help with simple calculations. \"\n",
    "                   \"Return 'TERMINATE' when the task is done.\",\n",
    "    llm_config={\"config_list\": config_list},\n",
    ")\n",
    "\n",
    "# The user proxy agent is used for interacting with the assistant agent\n",
    "# and executes tool calls.\n",
    "user_proxy = ConversableAgent(\n",
    "    name=\"User\",\n",
    "    llm_config=False,\n",
    "    is_termination_msg=lambda msg: msg.get(\"content\") is not None and \"TERMINATE\" in msg[\"content\"],\n",
    "    human_input_mode=\"NEVER\",\n",
    ")\n",
    "\n",
    "assistant.register_for_llm(name=\"calculator\", description=\"A simple calculator\")(calculator)\n",
    "user_proxy.register_for_execution(name=\"calculator\")(calculator)\n",
    "\n",
    "# Register the calculator function to the two agents.\n",
    "register_function(\n",
    "    calculator,\n",
    "    caller=assistant,  # The assistant agent can suggest calls to the calculator.\n",
    "    executor=user_proxy,  # The user proxy agent can execute the calculator calls.\n",
    "    name=\"calculator\",  # By default, the function name is used as the tool name.\n",
    "    description=\"A simple calculator\",  # A description of the tool.\n",
    ")\n",
    "\n",
    "# Let the assistant start the conversation.  It will end when the user types exit.\n",
    "user_proxy.initiate_chat(assistant, message=\"What is (1423 - 123) / 3 + (32 + 23) * 5?\")\n",
    "\n",
    "agentops.end_session('Success')"
   ],
   "metadata": {
    "collapsed": false
   },
   "id": "3498aa6176c799ff",
   "execution_count": null
  },
  {
   "cell_type": "markdown",
   "source": [
    "Again, if you go to [https://agentops.ai](https://agentops.ai), you should see data related to this run including:\n",
    "- Agents talking to each other\n",
    "- Each use of the `calculator` tool\n",
    "- Each call to OpenAI for LLM use"
   ],
   "metadata": {
    "collapsed": false
   },
   "id": "2b4edf8e70d17267"
  }
 ],
 "metadata": {
  "kernelspec": {
   "display_name": "Python 3",
   "language": "python",
   "name": "python3"
  },
  "language_info": {
   "codemirror_mode": {
    "name": "ipython",
    "version": 2
   },
   "file_extension": ".py",
   "mimetype": "text/x-python",
   "name": "python",
   "nbconvert_exporter": "python",
   "pygments_lexer": "ipython2",
   "version": "2.7.6"
  }
 },
 "nbformat": 4,
 "nbformat_minor": 5
}
